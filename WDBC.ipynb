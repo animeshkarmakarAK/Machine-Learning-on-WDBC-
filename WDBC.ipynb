{
 "cells": [
  {
   "cell_type": "code",
   "execution_count": 1,
   "metadata": {},
   "outputs": [],
   "source": [
    "import pandas\n",
    "import numpy as np\n",
    "from pandas.plotting import scatter_matrix\n",
    "import pandas\n",
    "import numpy as np\n",
    "from pandas.plotting import scatter_matrix\n",
    "import matplotlib.pyplot as plt\n",
    "from sklearn import model_selection\n",
    "from sklearn.metrics import classification_report\n",
    "from sklearn.metrics import confusion_matrix\n",
    "from sklearn.metrics import accuracy_score\n",
    "from sklearn.linear_model import LogisticRegression\n",
    "from sklearn.tree import DecisionTreeClassifier\n",
    "from sklearn.neighbors import KNeighborsClassifier\n",
    "from sklearn.discriminant_analysis import LinearDiscriminantAnalysis\n",
    "from sklearn.naive_bayes import GaussianNB\n",
    "from sklearn.svm import SVC\n",
    "from sklearn.model_selection import train_test_split"
   ]
  },
  {
   "cell_type": "markdown",
   "metadata": {},
   "source": [
    "## Get data "
   ]
  },
  {
   "cell_type": "code",
   "execution_count": 3,
   "metadata": {},
   "outputs": [],
   "source": [
    "train = \"D:/4-1/Thesis/conv/1525590021096_C_train.csv\"\n",
    "def load_train_set():\n",
    "    return pandas.read_csv(train)"
   ]
  },
  {
   "cell_type": "code",
   "execution_count": 4,
   "metadata": {},
   "outputs": [
    {
     "name": "stdout",
     "output_type": "stream",
     "text": [
      "<class 'pandas.core.frame.DataFrame'>\n",
      "RangeIndex: 698 entries, 0 to 697\n",
      "Data columns (total 10 columns):\n",
      "Clump-Thickness                698 non-null int64\n",
      "Uniformity-of-Cell-Size        698 non-null int64\n",
      "Uniformity-of-Cell-Shape       698 non-null int64\n",
      "Marginal-Adhesion              698 non-null int64\n",
      "Single-Epithelial-Cell-Size    698 non-null int64\n",
      "Bare-Nuclei                    698 non-null object\n",
      "Bland-Chromatin                698 non-null int64\n",
      "Normal-Nucleoli                698 non-null int64\n",
      "Mitoses                        698 non-null int64\n",
      "Class                          698 non-null int64\n",
      "dtypes: int64(9), object(1)\n",
      "memory usage: 54.6+ KB\n"
     ]
    }
   ],
   "source": [
    "train_set = load_train_set()\n",
    "train_set.info()"
   ]
  },
  {
   "cell_type": "code",
   "execution_count": 5,
   "metadata": {},
   "outputs": [
    {
     "data": {
      "text/html": [
       "<div>\n",
       "<style scoped>\n",
       "    .dataframe tbody tr th:only-of-type {\n",
       "        vertical-align: middle;\n",
       "    }\n",
       "\n",
       "    .dataframe tbody tr th {\n",
       "        vertical-align: top;\n",
       "    }\n",
       "\n",
       "    .dataframe thead th {\n",
       "        text-align: right;\n",
       "    }\n",
       "</style>\n",
       "<table border=\"1\" class=\"dataframe\">\n",
       "  <thead>\n",
       "    <tr style=\"text-align: right;\">\n",
       "      <th></th>\n",
       "      <th>Clump-Thickness</th>\n",
       "      <th>Uniformity-of-Cell-Size</th>\n",
       "      <th>Uniformity-of-Cell-Shape</th>\n",
       "      <th>Marginal-Adhesion</th>\n",
       "      <th>Single-Epithelial-Cell-Size</th>\n",
       "      <th>Bare-Nuclei</th>\n",
       "      <th>Bland-Chromatin</th>\n",
       "      <th>Normal-Nucleoli</th>\n",
       "      <th>Mitoses</th>\n",
       "      <th>Class</th>\n",
       "    </tr>\n",
       "  </thead>\n",
       "  <tbody>\n",
       "    <tr>\n",
       "      <th>0</th>\n",
       "      <td>5</td>\n",
       "      <td>1</td>\n",
       "      <td>1</td>\n",
       "      <td>1</td>\n",
       "      <td>2</td>\n",
       "      <td>\\t1\\t</td>\n",
       "      <td>3</td>\n",
       "      <td>1</td>\n",
       "      <td>1</td>\n",
       "      <td>2</td>\n",
       "    </tr>\n",
       "    <tr>\n",
       "      <th>1</th>\n",
       "      <td>5</td>\n",
       "      <td>4</td>\n",
       "      <td>4</td>\n",
       "      <td>5</td>\n",
       "      <td>7</td>\n",
       "      <td>\\t10\\t</td>\n",
       "      <td>3</td>\n",
       "      <td>2</td>\n",
       "      <td>1</td>\n",
       "      <td>2</td>\n",
       "    </tr>\n",
       "    <tr>\n",
       "      <th>2</th>\n",
       "      <td>3</td>\n",
       "      <td>1</td>\n",
       "      <td>1</td>\n",
       "      <td>1</td>\n",
       "      <td>2</td>\n",
       "      <td>\\t2\\t</td>\n",
       "      <td>3</td>\n",
       "      <td>1</td>\n",
       "      <td>1</td>\n",
       "      <td>2</td>\n",
       "    </tr>\n",
       "    <tr>\n",
       "      <th>3</th>\n",
       "      <td>6</td>\n",
       "      <td>8</td>\n",
       "      <td>8</td>\n",
       "      <td>1</td>\n",
       "      <td>3</td>\n",
       "      <td>\\t4\\t</td>\n",
       "      <td>3</td>\n",
       "      <td>7</td>\n",
       "      <td>1</td>\n",
       "      <td>2</td>\n",
       "    </tr>\n",
       "    <tr>\n",
       "      <th>4</th>\n",
       "      <td>4</td>\n",
       "      <td>1</td>\n",
       "      <td>1</td>\n",
       "      <td>3</td>\n",
       "      <td>2</td>\n",
       "      <td>\\t1\\t</td>\n",
       "      <td>3</td>\n",
       "      <td>1</td>\n",
       "      <td>1</td>\n",
       "      <td>2</td>\n",
       "    </tr>\n",
       "  </tbody>\n",
       "</table>\n",
       "</div>"
      ],
      "text/plain": [
       "   Clump-Thickness  Uniformity-of-Cell-Size  Uniformity-of-Cell-Shape  \\\n",
       "0                5                        1                         1   \n",
       "1                5                        4                         4   \n",
       "2                3                        1                         1   \n",
       "3                6                        8                         8   \n",
       "4                4                        1                         1   \n",
       "\n",
       "   Marginal-Adhesion  Single-Epithelial-Cell-Size Bare-Nuclei  \\\n",
       "0                  1                            2       \\t1\\t   \n",
       "1                  5                            7      \\t10\\t   \n",
       "2                  1                            2       \\t2\\t   \n",
       "3                  1                            3       \\t4\\t   \n",
       "4                  3                            2       \\t1\\t   \n",
       "\n",
       "   Bland-Chromatin  Normal-Nucleoli  Mitoses  Class  \n",
       "0                3                1        1      2  \n",
       "1                3                2        1      2  \n",
       "2                3                1        1      2  \n",
       "3                3                7        1      2  \n",
       "4                3                1        1      2  "
      ]
     },
     "execution_count": 5,
     "metadata": {},
     "output_type": "execute_result"
    }
   ],
   "source": [
    "train_set.head()"
   ]
  },
  {
   "cell_type": "markdown",
   "metadata": {},
   "source": [
    "## correlation of target(class) with other attributes which attribute is more impactful"
   ]
  },
  {
   "cell_type": "code",
   "execution_count": 6,
   "metadata": {},
   "outputs": [
    {
     "data": {
      "text/plain": [
       "Class                          1.000000\n",
       "Uniformity-of-Cell-Shape       0.818387\n",
       "Uniformity-of-Cell-Size        0.817356\n",
       "Bland-Chromatin                0.756262\n",
       "Clump-Thickness                0.717283\n",
       "Normal-Nucleoli                0.712551\n",
       "Marginal-Adhesion              0.696525\n",
       "Single-Epithelial-Cell-Size    0.683077\n",
       "Mitoses                        0.424464\n",
       "Name: Class, dtype: float64"
      ]
     },
     "execution_count": 6,
     "metadata": {},
     "output_type": "execute_result"
    }
   ],
   "source": [
    "corr_matrix = train_set.corr()\n",
    "corr_matrix[\"Class\"].sort_values(ascending = False)"
   ]
  },
  {
   "cell_type": "markdown",
   "metadata": {},
   "source": [
    "## Attribute Bare-Nuclei is only object type data in this dataset, for scaling purpose need to change it to int  "
   ]
  },
  {
   "cell_type": "code",
   "execution_count": 7,
   "metadata": {},
   "outputs": [
    {
     "data": {
      "text/plain": [
       "\\t1\\t     402\n",
       "\\t10\\t    132\n",
       "\\t2\\t      30\n",
       "\\t5\\t      29\n",
       "\\t3\\t      28\n",
       "\\t8\\t      21\n",
       "\\t4\\t      19\n",
       "\\t?\\t      16\n",
       "\\t9\\t       9\n",
       "\\t7\\t       8\n",
       "\\t6\\t       4\n",
       "Name: Bare-Nuclei, dtype: int64"
      ]
     },
     "execution_count": 7,
     "metadata": {},
     "output_type": "execute_result"
    }
   ],
   "source": [
    "bare = train_set[\"Bare-Nuclei\"]\n",
    "bare.value_counts()"
   ]
  },
  {
   "cell_type": "markdown",
   "metadata": {},
   "source": [
    "## fixing Attribute Bare-Nuclei column "
   ]
  },
  {
   "cell_type": "code",
   "execution_count": 8,
   "metadata": {},
   "outputs": [
    {
     "name": "stdout",
     "output_type": "stream",
     "text": [
      "<class 'pandas.core.frame.DataFrame'>\n",
      "RangeIndex: 698 entries, 0 to 697\n",
      "Data columns (total 10 columns):\n",
      "Clump-Thickness                698 non-null int64\n",
      "Uniformity-of-Cell-Size        698 non-null int64\n",
      "Uniformity-of-Cell-Shape       698 non-null int64\n",
      "Marginal-Adhesion              698 non-null int64\n",
      "Single-Epithelial-Cell-Size    698 non-null int64\n",
      "Bare-Nuclei                    698 non-null object\n",
      "Bland-Chromatin                698 non-null int64\n",
      "Normal-Nucleoli                698 non-null int64\n",
      "Mitoses                        698 non-null int64\n",
      "Class                          698 non-null int64\n",
      "dtypes: int64(9), object(1)\n",
      "memory usage: 54.6+ KB\n"
     ]
    }
   ],
   "source": [
    "sz = int(bare.size)\n",
    "tr_bare = []\n",
    "for i in range(sz):\n",
    "    if(bare[i][1] == '?'):   # have some missing values denote by '?' in cells\n",
    "        tr_bare.append(0)\n",
    "    else:\n",
    "        tr_bare.append(int(bare[i]))\n",
    "        \n",
    "train_set.info()"
   ]
  },
  {
   "cell_type": "code",
   "execution_count": 9,
   "metadata": {},
   "outputs": [
    {
     "name": "stdout",
     "output_type": "stream",
     "text": [
      "<class 'pandas.core.frame.DataFrame'>\n",
      "RangeIndex: 698 entries, 0 to 697\n",
      "Data columns (total 10 columns):\n",
      "Clump-Thickness                698 non-null int64\n",
      "Uniformity-of-Cell-Size        698 non-null int64\n",
      "Uniformity-of-Cell-Shape       698 non-null int64\n",
      "Marginal-Adhesion              698 non-null int64\n",
      "Single-Epithelial-Cell-Size    698 non-null int64\n",
      "Bare-Nuclei                    698 non-null object\n",
      "Bland-Chromatin                698 non-null int64\n",
      "Normal-Nucleoli                698 non-null int64\n",
      "Mitoses                        698 non-null int64\n",
      "Class                          698 non-null int64\n",
      "dtypes: int64(9), object(1)\n",
      "memory usage: 54.6+ KB\n"
     ]
    }
   ],
   "source": [
    "tr_train_set= train_set.copy() #copy to set the original one aside\n",
    "tr_train_set.info()"
   ]
  },
  {
   "cell_type": "code",
   "execution_count": 10,
   "metadata": {},
   "outputs": [],
   "source": [
    "tr_train_set.drop(['Bare-Nuclei'], axis = 1, inplace= True)"
   ]
  },
  {
   "cell_type": "code",
   "execution_count": 11,
   "metadata": {},
   "outputs": [],
   "source": [
    "tr_train_set['Bare-Nuclei'] = tr_bare"
   ]
  },
  {
   "cell_type": "markdown",
   "metadata": {},
   "source": [
    "## Look at the Bare-Nuclei column, the data's converted to int64 now "
   ]
  },
  {
   "cell_type": "code",
   "execution_count": 12,
   "metadata": {},
   "outputs": [
    {
     "data": {
      "text/html": [
       "<div>\n",
       "<style scoped>\n",
       "    .dataframe tbody tr th:only-of-type {\n",
       "        vertical-align: middle;\n",
       "    }\n",
       "\n",
       "    .dataframe tbody tr th {\n",
       "        vertical-align: top;\n",
       "    }\n",
       "\n",
       "    .dataframe thead th {\n",
       "        text-align: right;\n",
       "    }\n",
       "</style>\n",
       "<table border=\"1\" class=\"dataframe\">\n",
       "  <thead>\n",
       "    <tr style=\"text-align: right;\">\n",
       "      <th></th>\n",
       "      <th>Clump-Thickness</th>\n",
       "      <th>Uniformity-of-Cell-Size</th>\n",
       "      <th>Uniformity-of-Cell-Shape</th>\n",
       "      <th>Marginal-Adhesion</th>\n",
       "      <th>Single-Epithelial-Cell-Size</th>\n",
       "      <th>Bland-Chromatin</th>\n",
       "      <th>Normal-Nucleoli</th>\n",
       "      <th>Mitoses</th>\n",
       "      <th>Class</th>\n",
       "      <th>Bare-Nuclei</th>\n",
       "    </tr>\n",
       "  </thead>\n",
       "  <tbody>\n",
       "    <tr>\n",
       "      <th>0</th>\n",
       "      <td>5</td>\n",
       "      <td>1</td>\n",
       "      <td>1</td>\n",
       "      <td>1</td>\n",
       "      <td>2</td>\n",
       "      <td>3</td>\n",
       "      <td>1</td>\n",
       "      <td>1</td>\n",
       "      <td>2</td>\n",
       "      <td>1</td>\n",
       "    </tr>\n",
       "    <tr>\n",
       "      <th>1</th>\n",
       "      <td>5</td>\n",
       "      <td>4</td>\n",
       "      <td>4</td>\n",
       "      <td>5</td>\n",
       "      <td>7</td>\n",
       "      <td>3</td>\n",
       "      <td>2</td>\n",
       "      <td>1</td>\n",
       "      <td>2</td>\n",
       "      <td>10</td>\n",
       "    </tr>\n",
       "    <tr>\n",
       "      <th>2</th>\n",
       "      <td>3</td>\n",
       "      <td>1</td>\n",
       "      <td>1</td>\n",
       "      <td>1</td>\n",
       "      <td>2</td>\n",
       "      <td>3</td>\n",
       "      <td>1</td>\n",
       "      <td>1</td>\n",
       "      <td>2</td>\n",
       "      <td>2</td>\n",
       "    </tr>\n",
       "    <tr>\n",
       "      <th>3</th>\n",
       "      <td>6</td>\n",
       "      <td>8</td>\n",
       "      <td>8</td>\n",
       "      <td>1</td>\n",
       "      <td>3</td>\n",
       "      <td>3</td>\n",
       "      <td>7</td>\n",
       "      <td>1</td>\n",
       "      <td>2</td>\n",
       "      <td>4</td>\n",
       "    </tr>\n",
       "    <tr>\n",
       "      <th>4</th>\n",
       "      <td>4</td>\n",
       "      <td>1</td>\n",
       "      <td>1</td>\n",
       "      <td>3</td>\n",
       "      <td>2</td>\n",
       "      <td>3</td>\n",
       "      <td>1</td>\n",
       "      <td>1</td>\n",
       "      <td>2</td>\n",
       "      <td>1</td>\n",
       "    </tr>\n",
       "  </tbody>\n",
       "</table>\n",
       "</div>"
      ],
      "text/plain": [
       "   Clump-Thickness  Uniformity-of-Cell-Size  Uniformity-of-Cell-Shape  \\\n",
       "0                5                        1                         1   \n",
       "1                5                        4                         4   \n",
       "2                3                        1                         1   \n",
       "3                6                        8                         8   \n",
       "4                4                        1                         1   \n",
       "\n",
       "   Marginal-Adhesion  Single-Epithelial-Cell-Size  Bland-Chromatin  \\\n",
       "0                  1                            2                3   \n",
       "1                  5                            7                3   \n",
       "2                  1                            2                3   \n",
       "3                  1                            3                3   \n",
       "4                  3                            2                3   \n",
       "\n",
       "   Normal-Nucleoli  Mitoses  Class  Bare-Nuclei  \n",
       "0                1        1      2            1  \n",
       "1                2        1      2           10  \n",
       "2                1        1      2            2  \n",
       "3                7        1      2            4  \n",
       "4                1        1      2            1  "
      ]
     },
     "execution_count": 12,
     "metadata": {},
     "output_type": "execute_result"
    }
   ],
   "source": [
    "median = tr_train_set['Bare-Nuclei'].median()\n",
    "tr_train_set['Bare-Nuclei'].fillna(median)\n",
    "tr_train_set.head()"
   ]
  },
  {
   "cell_type": "code",
   "execution_count": 13,
   "metadata": {},
   "outputs": [],
   "source": [
    "for i in range(sz):\n",
    "    if(tr_train_set['Bare-Nuclei'][i] == 0):\n",
    "         tr_train_set['Bare-Nuclei'][i] = median"
   ]
  },
  {
   "cell_type": "code",
   "execution_count": 14,
   "metadata": {},
   "outputs": [
    {
     "name": "stdout",
     "output_type": "stream",
     "text": [
      "<class 'pandas.core.frame.DataFrame'>\n",
      "RangeIndex: 698 entries, 0 to 697\n",
      "Data columns (total 10 columns):\n",
      "Clump-Thickness                698 non-null int64\n",
      "Uniformity-of-Cell-Size        698 non-null int64\n",
      "Uniformity-of-Cell-Shape       698 non-null int64\n",
      "Marginal-Adhesion              698 non-null int64\n",
      "Single-Epithelial-Cell-Size    698 non-null int64\n",
      "Bland-Chromatin                698 non-null int64\n",
      "Normal-Nucleoli                698 non-null int64\n",
      "Mitoses                        698 non-null int64\n",
      "Class                          698 non-null int64\n",
      "Bare-Nuclei                    698 non-null int64\n",
      "dtypes: int64(10)\n",
      "memory usage: 54.6 KB\n"
     ]
    }
   ],
   "source": [
    "tr_train_set.info()"
   ]
  },
  {
   "cell_type": "code",
   "execution_count": 15,
   "metadata": {},
   "outputs": [
    {
     "data": {
      "text/html": [
       "<div>\n",
       "<style scoped>\n",
       "    .dataframe tbody tr th:only-of-type {\n",
       "        vertical-align: middle;\n",
       "    }\n",
       "\n",
       "    .dataframe tbody tr th {\n",
       "        vertical-align: top;\n",
       "    }\n",
       "\n",
       "    .dataframe thead th {\n",
       "        text-align: right;\n",
       "    }\n",
       "</style>\n",
       "<table border=\"1\" class=\"dataframe\">\n",
       "  <thead>\n",
       "    <tr style=\"text-align: right;\">\n",
       "      <th></th>\n",
       "      <th>Clump-Thickness</th>\n",
       "      <th>Uniformity-of-Cell-Size</th>\n",
       "      <th>Uniformity-of-Cell-Shape</th>\n",
       "      <th>Marginal-Adhesion</th>\n",
       "      <th>Single-Epithelial-Cell-Size</th>\n",
       "      <th>Bland-Chromatin</th>\n",
       "      <th>Normal-Nucleoli</th>\n",
       "      <th>Mitoses</th>\n",
       "      <th>Class</th>\n",
       "      <th>Bare-Nuclei</th>\n",
       "    </tr>\n",
       "  </thead>\n",
       "  <tbody>\n",
       "    <tr>\n",
       "      <th>0</th>\n",
       "      <td>5</td>\n",
       "      <td>1</td>\n",
       "      <td>1</td>\n",
       "      <td>1</td>\n",
       "      <td>2</td>\n",
       "      <td>3</td>\n",
       "      <td>1</td>\n",
       "      <td>1</td>\n",
       "      <td>2</td>\n",
       "      <td>1</td>\n",
       "    </tr>\n",
       "    <tr>\n",
       "      <th>1</th>\n",
       "      <td>5</td>\n",
       "      <td>4</td>\n",
       "      <td>4</td>\n",
       "      <td>5</td>\n",
       "      <td>7</td>\n",
       "      <td>3</td>\n",
       "      <td>2</td>\n",
       "      <td>1</td>\n",
       "      <td>2</td>\n",
       "      <td>10</td>\n",
       "    </tr>\n",
       "    <tr>\n",
       "      <th>2</th>\n",
       "      <td>3</td>\n",
       "      <td>1</td>\n",
       "      <td>1</td>\n",
       "      <td>1</td>\n",
       "      <td>2</td>\n",
       "      <td>3</td>\n",
       "      <td>1</td>\n",
       "      <td>1</td>\n",
       "      <td>2</td>\n",
       "      <td>2</td>\n",
       "    </tr>\n",
       "    <tr>\n",
       "      <th>3</th>\n",
       "      <td>6</td>\n",
       "      <td>8</td>\n",
       "      <td>8</td>\n",
       "      <td>1</td>\n",
       "      <td>3</td>\n",
       "      <td>3</td>\n",
       "      <td>7</td>\n",
       "      <td>1</td>\n",
       "      <td>2</td>\n",
       "      <td>4</td>\n",
       "    </tr>\n",
       "    <tr>\n",
       "      <th>4</th>\n",
       "      <td>4</td>\n",
       "      <td>1</td>\n",
       "      <td>1</td>\n",
       "      <td>3</td>\n",
       "      <td>2</td>\n",
       "      <td>3</td>\n",
       "      <td>1</td>\n",
       "      <td>1</td>\n",
       "      <td>2</td>\n",
       "      <td>1</td>\n",
       "    </tr>\n",
       "  </tbody>\n",
       "</table>\n",
       "</div>"
      ],
      "text/plain": [
       "   Clump-Thickness  Uniformity-of-Cell-Size  Uniformity-of-Cell-Shape  \\\n",
       "0                5                        1                         1   \n",
       "1                5                        4                         4   \n",
       "2                3                        1                         1   \n",
       "3                6                        8                         8   \n",
       "4                4                        1                         1   \n",
       "\n",
       "   Marginal-Adhesion  Single-Epithelial-Cell-Size  Bland-Chromatin  \\\n",
       "0                  1                            2                3   \n",
       "1                  5                            7                3   \n",
       "2                  1                            2                3   \n",
       "3                  1                            3                3   \n",
       "4                  3                            2                3   \n",
       "\n",
       "   Normal-Nucleoli  Mitoses  Class  Bare-Nuclei  \n",
       "0                1        1      2            1  \n",
       "1                2        1      2           10  \n",
       "2                1        1      2            2  \n",
       "3                7        1      2            4  \n",
       "4                1        1      2            1  "
      ]
     },
     "execution_count": 15,
     "metadata": {},
     "output_type": "execute_result"
    }
   ],
   "source": [
    "tr_train_set.head()"
   ]
  },
  {
   "cell_type": "markdown",
   "metadata": {},
   "source": [
    "## checking for missing values "
   ]
  },
  {
   "cell_type": "code",
   "execution_count": 16,
   "metadata": {},
   "outputs": [
    {
     "data": {
      "text/plain": [
       "Clump-Thickness                0.0\n",
       "Uniformity-of-Cell-Size        0.0\n",
       "Uniformity-of-Cell-Shape       0.0\n",
       "Marginal-Adhesion              0.0\n",
       "Single-Epithelial-Cell-Size    0.0\n",
       "Bland-Chromatin                0.0\n",
       "Normal-Nucleoli                0.0\n",
       "Mitoses                        0.0\n",
       "Class                          0.0\n",
       "Bare-Nuclei                    0.0\n",
       "dtype: float64"
      ]
     },
     "execution_count": 16,
     "metadata": {},
     "output_type": "execute_result"
    }
   ],
   "source": [
    "tr_train_set[tr_train_set == '?'].sum()"
   ]
  },
  {
   "cell_type": "code",
   "execution_count": 17,
   "metadata": {},
   "outputs": [
    {
     "data": {
      "text/plain": [
       "Class                          1.000000\n",
       "Bare-Nuclei                    0.819361\n",
       "Uniformity-of-Cell-Shape       0.818387\n",
       "Uniformity-of-Cell-Size        0.817356\n",
       "Bland-Chromatin                0.756262\n",
       "Clump-Thickness                0.717283\n",
       "Normal-Nucleoli                0.712551\n",
       "Marginal-Adhesion              0.696525\n",
       "Single-Epithelial-Cell-Size    0.683077\n",
       "Mitoses                        0.424464\n",
       "Name: Class, dtype: float64"
      ]
     },
     "execution_count": 17,
     "metadata": {},
     "output_type": "execute_result"
    }
   ],
   "source": [
    "corr_matrix = tr_train_set.corr()\n",
    "corr_matrix['Class'].sort_values(ascending = False)"
   ]
  },
  {
   "cell_type": "markdown",
   "metadata": {},
   "source": [
    "## the following code will create stratified test set "
   ]
  },
  {
   "cell_type": "code",
   "execution_count": 18,
   "metadata": {},
   "outputs": [],
   "source": [
    "from sklearn.model_selection import StratifiedShuffleSplit\n",
    "\n",
    "split = StratifiedShuffleSplit(n_splits=1, test_size=0.2, random_state=42)\n",
    "for train_index, test_index in split.split(tr_train_set, tr_train_set[\"Bare-Nuclei\"]):\n",
    "    strat_train_set = tr_train_set.loc[train_index]\n",
    "    strat_test_set = tr_train_set.loc[test_index]"
   ]
  },
  {
   "cell_type": "code",
   "execution_count": 19,
   "metadata": {},
   "outputs": [
    {
     "data": {
      "text/plain": [
       "1     0.600000\n",
       "10    0.185714\n",
       "5     0.042857\n",
       "3     0.042857\n",
       "2     0.042857\n",
       "8     0.028571\n",
       "4     0.028571\n",
       "9     0.014286\n",
       "7     0.007143\n",
       "6     0.007143\n",
       "Name: Bare-Nuclei, dtype: float64"
      ]
     },
     "execution_count": 19,
     "metadata": {},
     "output_type": "execute_result"
    }
   ],
   "source": [
    "strat_test_set['Bare-Nuclei'].value_counts()/len(strat_test_set)"
   ]
  },
  {
   "cell_type": "code",
   "execution_count": 20,
   "metadata": {},
   "outputs": [
    {
     "data": {
      "text/plain": [
       "1     0.598854\n",
       "10    0.189112\n",
       "2     0.042980\n",
       "5     0.041547\n",
       "3     0.040115\n",
       "8     0.030086\n",
       "4     0.027221\n",
       "9     0.012894\n",
       "7     0.011461\n",
       "6     0.005731\n",
       "Name: Bare-Nuclei, dtype: float64"
      ]
     },
     "execution_count": 20,
     "metadata": {},
     "output_type": "execute_result"
    }
   ],
   "source": [
    "tr_train_set['Bare-Nuclei'].value_counts()/len(tr_train_set)"
   ]
  },
  {
   "cell_type": "code",
   "execution_count": 21,
   "metadata": {},
   "outputs": [],
   "source": [
    "Y_train = strat_train_set['Class']\n",
    "Y_test = strat_test_set['Class']\n",
    "X_train = strat_train_set.copy()\n",
    "X_test = strat_test_set.copy()"
   ]
  },
  {
   "cell_type": "code",
   "execution_count": 22,
   "metadata": {},
   "outputs": [],
   "source": [
    "X_test.drop(['Class'], axis = 1, inplace = True)"
   ]
  },
  {
   "cell_type": "code",
   "execution_count": 23,
   "metadata": {},
   "outputs": [],
   "source": [
    "X_train.drop(['Class'], axis = 1, inplace = True)"
   ]
  },
  {
   "cell_type": "markdown",
   "metadata": {},
   "source": [
    "# train a model and get accuracy score "
   ]
  },
  {
   "cell_type": "code",
   "execution_count": 24,
   "metadata": {},
   "outputs": [
    {
     "data": {
      "text/plain": [
       "LinearRegression(copy_X=True, fit_intercept=True, n_jobs=1, normalize=False)"
      ]
     },
     "execution_count": 24,
     "metadata": {},
     "output_type": "execute_result"
    }
   ],
   "source": [
    "from sklearn.linear_model import LinearRegression\n",
    "\n",
    "lin_reg = LinearRegression()\n",
    "lin_reg.fit(X_train, Y_train)"
   ]
  },
  {
   "cell_type": "code",
   "execution_count": 25,
   "metadata": {},
   "outputs": [],
   "source": [
    "cancer_prediction = lin_reg.predict(X_test)"
   ]
  },
  {
   "cell_type": "code",
   "execution_count": 27,
   "metadata": {},
   "outputs": [
    {
     "name": "stdout",
     "output_type": "stream",
     "text": [
      "Accuracy score of LinerRegression:  50.0 %\n"
     ]
    }
   ],
   "source": [
    "from sklearn.metrics import accuracy_score\n",
    "reg_accuracy_score = accuracy_score(Y_test, cancer_prediction)*100\n",
    "print('Accuracy score of LinerRegression: ',reg_accuracy_score, \"%\")"
   ]
  },
  {
   "cell_type": "code",
   "execution_count": 28,
   "metadata": {},
   "outputs": [
    {
     "data": {
      "text/plain": [
       "GaussianNB(priors=None)"
      ]
     },
     "execution_count": 28,
     "metadata": {},
     "output_type": "execute_result"
    }
   ],
   "source": [
    "nb_model = GaussianNB()\n",
    "nb_model.fit(X_train, Y_train)"
   ]
  },
  {
   "cell_type": "code",
   "execution_count": 29,
   "metadata": {},
   "outputs": [
    {
     "name": "stdout",
     "output_type": "stream",
     "text": [
      "Accuracy score of Naive Bayes:  97.85714285714285 %\n"
     ]
    }
   ],
   "source": [
    "predict = nb_model.predict(X_test)\n",
    "nb_accuracy_score = accuracy_score(Y_test, predict)*100\n",
    "print('Accuracy score of Naive Bayes: ',nb_accuracy_score,\"%\")"
   ]
  },
  {
   "cell_type": "code",
   "execution_count": 30,
   "metadata": {},
   "outputs": [
    {
     "name": "stdout",
     "output_type": "stream",
     "text": [
      "Accuracy score of Decision Tree Regressor:  96.42857142857143 %\n"
     ]
    }
   ],
   "source": [
    "from sklearn.tree import DecisionTreeRegressor\n",
    "tree_reg = DecisionTreeRegressor(random_state = 0)\n",
    "tree_reg.fit(X_train, Y_train)\n",
    "tree_predict = tree_reg.predict(X_test)\n",
    "tree_reg_accuracy_score = accuracy_score(Y_test, tree_predict)*100\n",
    "print('Accuracy score of Decision Tree Regressor: ',tree_reg_accuracy_score,\"%\")"
   ]
  },
  {
   "cell_type": "markdown",
   "metadata": {},
   "source": [
    "## after deleting less impactfull attribute 'Mitoses' and train model "
   ]
  },
  {
   "cell_type": "code",
   "execution_count": 31,
   "metadata": {},
   "outputs": [],
   "source": [
    "# let's see after deleting mitosis \n",
    "combined = [X_train, X_test]\n",
    "for set in combined: \n",
    "    set.drop(['Mitoses'], axis = 1, inplace = True)"
   ]
  },
  {
   "cell_type": "code",
   "execution_count": 33,
   "metadata": {},
   "outputs": [
    {
     "name": "stdout",
     "output_type": "stream",
     "text": [
      "Accuracy score of LinerRegression:  49.28571428571429 %\n"
     ]
    }
   ],
   "source": [
    "lin_reg.fit(X_train, Y_train)\n",
    "cancer_prediction = lin_reg.predict(X_test).astype(int)\n",
    "reg_accuracy_score = accuracy_score(Y_test, cancer_prediction)*100\n",
    "print('Accuracy score of LinerRegression: ',reg_accuracy_score, \"%\")"
   ]
  },
  {
   "cell_type": "code",
   "execution_count": 34,
   "metadata": {},
   "outputs": [
    {
     "name": "stdout",
     "output_type": "stream",
     "text": [
      "Accuracy score of Naive Bayes:  97.85714285714285 %\n"
     ]
    }
   ],
   "source": [
    "model = GaussianNB()\n",
    "model.fit(X_train, Y_train)\n",
    "predict = model.predict(X_test)\n",
    "print('Accuracy score of Naive Bayes: ',accuracy_score(Y_test, predict)*100,\"%\")"
   ]
  },
  {
   "cell_type": "code",
   "execution_count": 35,
   "metadata": {},
   "outputs": [
    {
     "name": "stdout",
     "output_type": "stream",
     "text": [
      "Accuracy score of Decision Tree Regressior:  96.42857142857143 %\n"
     ]
    }
   ],
   "source": [
    "tree_reg = DecisionTreeRegressor(random_state = 0)\n",
    "tree_reg.fit(X_train, Y_train)\n",
    "tree_predict = tree_reg.predict(X_test)\n",
    "print('Accuracy score of Decision Tree Regressior: ',accuracy_score(Y_test, tree_predict)*100,\"%\")"
   ]
  }
 ],
 "metadata": {
  "kernelspec": {
   "display_name": "Python 3",
   "language": "python",
   "name": "python3"
  },
  "language_info": {
   "codemirror_mode": {
    "name": "ipython",
    "version": 3
   },
   "file_extension": ".py",
   "mimetype": "text/x-python",
   "name": "python",
   "nbconvert_exporter": "python",
   "pygments_lexer": "ipython3",
   "version": "3.6.5"
  }
 },
 "nbformat": 4,
 "nbformat_minor": 2
}
